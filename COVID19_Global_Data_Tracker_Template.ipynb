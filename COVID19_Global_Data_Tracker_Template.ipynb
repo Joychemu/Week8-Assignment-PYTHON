{
 "cells": [
  {
   "cell_type": "markdown",
   "id": "9be79620",
   "metadata": {},
   "source": [
    "# 📊 COVID-19 Global Data Tracker\n",
    "Welcome to the COVID-19 Global Data Tracker project. This notebook guides you through loading, cleaning, analyzing, and visualizing COVID-19 data."
   ]
  },
  {
   "cell_type": "markdown",
   "id": "73401e7f",
   "metadata": {},
   "source": [
    "## 1️⃣ Data Collection\n",
    "Download the dataset from [Our World in Data](https://github.com/owid/covid-19-data/blob/master/public/data/owid-covid-data.csv).\n",
    "Save it as `owid-covid-data.csv` in the same directory as this notebook."
   ]
  },
  {
   "cell_type": "code",
   "execution_count": null,
   "id": "cdbca3ca",
   "metadata": {},
   "outputs": [],
   "source": [
    "import pandas as pd\n",
    "\n",
    "# Load the dataset\n",
    "df = pd.read_csv('owid-covid-data.csv')\n",
    "df.shape"
   ]
  },
  {
   "cell_type": "code",
   "execution_count": null,
   "id": "6eebfd68",
   "metadata": {},
   "outputs": [],
   "source": [
    "# Preview the dataset\n",
    "print(df.columns)\n",
    "df.head()"
   ]
  },
  {
   "cell_type": "code",
   "execution_count": null,
   "id": "00b70705",
   "metadata": {},
   "outputs": [],
   "source": [
    "# Check for missing values\n",
    "df.isnull().sum()"
   ]
  },
  {
   "cell_type": "markdown",
   "id": "f89d23ba",
   "metadata": {},
   "source": [
    "## 2️⃣ Data Cleaning\n",
    "We'll clean the dataset for analysis."
   ]
  },
  {
   "cell_type": "code",
   "execution_count": null,
   "id": "fd63ed7c",
   "metadata": {},
   "outputs": [],
   "source": [
    "# Convert date column\n",
    "df['date'] = pd.to_datetime(df['date'])\n",
    "\n",
    "# Filter for selected countries\n",
    "countries = ['Kenya', 'United States', 'India']\n",
    "df = df[df['location'].isin(countries)]\n",
    "\n",
    "# Fill missing numeric values\n",
    "df = df.fillna(0)\n",
    "df.head()"
   ]
  },
  {
   "cell_type": "markdown",
   "id": "4cec5324",
   "metadata": {},
   "source": [
    "## 3️⃣ Exploratory Data Analysis (EDA)\n",
    "Analyze trends in total cases, deaths, and new cases."
   ]
  },
  {
   "cell_type": "code",
   "execution_count": null,
   "id": "9b5b65ae",
   "metadata": {},
   "outputs": [],
   "source": [
    "import matplotlib.pyplot as plt\n",
    "import seaborn as sns\n",
    "\n",
    "plt.figure(figsize=(12, 6))\n",
    "for country in countries:\n",
    "    country_data = df[df['location'] == country]\n",
    "    plt.plot(country_data['date'], country_data['total_cases'], label=country)\n",
    "\n",
    "plt.title('Total COVID-19 Cases Over Time')\n",
    "plt.xlabel('Date')\n",
    "plt.ylabel('Total Cases')\n",
    "plt.legend()\n",
    "plt.grid(True)\n",
    "plt.show()"
   ]
  },
  {
   "cell_type": "markdown",
   "id": "521531a8",
   "metadata": {},
   "source": [
    "## 4️⃣ Vaccination Progress\n",
    "Visualize vaccination rollouts."
   ]
  },
  {
   "cell_type": "code",
   "execution_count": null,
   "id": "1765cb55",
   "metadata": {},
   "outputs": [],
   "source": [
    "plt.figure(figsize=(12, 6))\n",
    "for country in countries:\n",
    "    country_data = df[df['location'] == country]\n",
    "    plt.plot(country_data['date'], country_data['total_vaccinations'], label=country)\n",
    "\n",
    "plt.title('Total Vaccinations Over Time')\n",
    "plt.xlabel('Date')\n",
    "plt.ylabel('Total Vaccinations')\n",
    "plt.legend()\n",
    "plt.grid(True)\n",
    "plt.show()"
   ]
  },
  {
   "cell_type": "markdown",
   "id": "80c5c1d1",
   "metadata": {},
   "source": [
    "## 5️⃣ Insights & Reporting\n",
    "Summarize your findings in the Markdown cell below."
   ]
  },
  {
   "cell_type": "markdown",
   "id": "b339514e",
   "metadata": {},
   "source": [
    "### Key Insights\n",
    "- \n",
    "- \n",
    "- "
   ]
  }
 ],
 "metadata": {},
 "nbformat": 4,
 "nbformat_minor": 5
}
